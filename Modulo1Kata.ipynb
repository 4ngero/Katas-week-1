{
 "cells": [
  {
   "cell_type": "markdown",
   "metadata": {},
   "source": [
    "## Pimer programa"
   ]
  },
  {
   "cell_type": "code",
   "execution_count": 12,
   "metadata": {},
   "outputs": [
    {
     "name": "stdout",
     "output_type": "stream",
     "text": [
      "Today's date is: 2022-02-05\n",
      "11 parsec, is 35.877159999999996 ligthyears\n"
     ]
    }
   ],
   "source": [
    "# Fecha\n",
    "from datetime import date\n",
    "date.today()\n",
    "print(\"Today's date is: \" + str(date.today()))\n",
    "\n",
    "# Convertidor de unidades \n",
    "parsec = 11\n",
    "lightyears = 3.26156 * parsec\n",
    "print(str(parsec) + \" parsec, is \" + str(lightyears) + \" ligthyears\")"
   ]
  }
 ],
 "metadata": {
  "interpreter": {
   "hash": "c05ab8a21daa51741741f9f95e805c64e54ffe64e7593ef87bf6f47b5d85ce0e"
  },
  "kernelspec": {
   "display_name": "Python 3.10.2 64-bit",
   "language": "python",
   "name": "python3"
  },
  "language_info": {
   "codemirror_mode": {
    "name": "ipython",
    "version": 3
   },
   "file_extension": ".py",
   "mimetype": "text/x-python",
   "name": "python",
   "nbconvert_exporter": "python",
   "pygments_lexer": "ipython3",
   "version": "3.10.2"
  },
  "orig_nbformat": 4
 },
 "nbformat": 4,
 "nbformat_minor": 2
}
